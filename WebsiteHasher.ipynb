{
 "cells": [
  {
   "cell_type": "code",
   "execution_count": null,
   "id": "d4633d84",
   "metadata": {},
   "outputs": [],
   "source": []
  },
  {
   "cell_type": "code",
   "execution_count": null,
   "id": "99232f56",
   "metadata": {},
   "outputs": [],
   "source": [
    "import time\n",
    "import hashlib\n",
    "from urllib.request import urlopen, Request\n",
    " \n",
    "# url auswaehlen\n",
    "url = Request('https://vorlesungsplan.dhbw-mannheim.de/index.php?action=view&gid=3067001&uid=8537001',\n",
    "              headers={'User-Agent': 'Mozilla/5.0'})\n",
    " \n",
    "# macht get request \n",
    "# und speichert diese in response ab\n",
    "response = urlopen(url).read()\n",
    " \n",
    "# ersten hash machen\n",
    "currentHash = hashlib.sha224(response).hexdigest()\n",
    "print(\"running\")\n",
    "time.sleep(10)\n",
    "while True:\n",
    "    try:\n",
    "        #get request speichern\n",
    "        response = urlopen(url).read()\n",
    "         \n",
    "        # get request wird gehashed\n",
    "        currentHash = hashlib.sha224(response).hexdigest()\n",
    "         \n",
    "        # fuer x sekunden warten \n",
    "        time.sleep(5)\n",
    "         \n",
    "        # neue get request\n",
    "        response = urlopen(url).read()\n",
    "         \n",
    "        # neuer hash\n",
    "        newHash = hashlib.sha224(response).hexdigest()\n",
    " \n",
    "        # hashes werden verglichen\n",
    "        if newHash == currentHash:\n",
    "            print (\"nothing changed\") #kann man theoretisch weglassen, ist fuer testen da\n",
    "            continue\n",
    " \n",
    "        # falls die hashes verschieden sind\n",
    "        else:\n",
    "            # notify\n",
    "            print(\"something changed\")\n",
    "            response = urlopen(url).read()\n",
    " \n",
    "            # currentHash neu aufsetzen\n",
    "            currentHash = hashlib.sha224(response).hexdigest()\n",
    "        \n",
    "            # für x sekunden warten\n",
    "            time.sleep(5)\n",
    "            continue\n",
    "    except Exception as e:\n",
    "        print(\"error\")"
   ]
  },
  {
   "cell_type": "code",
   "execution_count": null,
   "id": "1308dae9",
   "metadata": {},
   "outputs": [],
   "source": []
  }
 ],
 "metadata": {
  "kernelspec": {
   "display_name": "Python 3 (ipykernel)",
   "language": "python",
   "name": "python3"
  },
  "language_info": {
   "codemirror_mode": {
    "name": "ipython",
    "version": 3
   },
   "file_extension": ".py",
   "mimetype": "text/x-python",
   "name": "python",
   "nbconvert_exporter": "python",
   "pygments_lexer": "ipython3",
   "version": "3.10.6"
  }
 },
 "nbformat": 4,
 "nbformat_minor": 5
}
